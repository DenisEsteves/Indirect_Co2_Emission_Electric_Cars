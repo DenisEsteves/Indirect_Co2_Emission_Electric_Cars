{
 "cells": [
  {
   "cell_type": "code",
   "execution_count": null,
   "metadata": {},
   "outputs": [],
   "source": [
    "import pandas as pd\n",
    "from bs4 import BeautifulSoup\n",
    "import requests\n",
    "import world_bank_data as wb"
   ]
  },
  {
   "cell_type": "code",
   "execution_count": null,
   "metadata": {},
   "outputs": [],
   "source": [
    "# Electricity production from renewable sources, excluding hydroelectric (% of total)\n",
    "url='https://data.worldbank.org/indicator/EG.ELC.RNWX.ZS'\n",
    "\n",
    "#Electricity production from renewable sources, excluding hydroelectric (kWh)\n",
    "url='https://data.worldbank.org/indicator/EG.ELC.RNWX.KH'\n",
    "\n",
    "#Electricity production from oil sources (% of total)\n",
    "url='https://data.worldbank.org/indicator/EG.ELC.PETR.ZS'\n",
    "\n",
    "#Electricity production from nuclear sources (% of total)\n",
    "url='https://data.worldbank.org/indicator/EG.ELC.NUCL.ZS'\n",
    "\n",
    "#Electricity production from coal sources (% of total)\n",
    "url='https://data.worldbank.org/indicator/EG.ELC.COAL.ZS'\n",
    "\n",
    "#Electricity production from oil, gas and coal sources (% of total)\n",
    "url='https://data.worldbank.org/indicator/EG.ELC.FOSL.ZS'\n",
    "\n",
    "#Electricity production from natural gas sources (% of total)\n",
    "url='https://data.worldbank.org/indicator/EG.ELC.NGAS.ZS'\n",
    "\n",
    "#Electricity production from hydroelectric sources (% of total)\n",
    "url='https://data.worldbank.org/indicator/EG.ELC.HYRO.ZS'\n",
    "\n",
    "#------------ELECTRICITY PRODUCTION BREAKDOWN--------------------#UPPER\n",
    "\n",
    "#Electric power transmission and distribution losses (% of output)\n",
    "url='https://data.worldbank.org/indicator/EG.ELC.LOSS.ZS'\n",
    "\n",
    "#------------ACCESS TO ELECTRICITY BREAKDOWN----------------------#LOWER\n",
    "\n",
    "#Access to electricity (% of population)\n",
    "url='https://data.worldbank.org/indicator/EG.ELC.ACCS.ZS'\n",
    "\n",
    "#Access to electricity, urban (% of urban population)\n",
    "url='https://data.worldbank.org/indicator/EG.ELC.ACCS.UR.ZS'\n",
    "\n",
    "#Access to electricity, rural (% of rural population)\n",
    "url='https://data.worldbank.org/indicator/EG.ELC.ACCS.RU.ZS'"
   ]
  },
  {
   "cell_type": "code",
   "execution_count": null,
   "metadata": {},
   "outputs": [],
   "source": [
    "#FETCHING FOR VARIOUS TABLES\n",
    "\n",
    "elect_prod_renew_sourc_per = pd.DataFrame(wb.get_series('EG.ELC.RNWX.ZS', mrv=1))\n",
    "elect_prod_renew_sourc_kwh = pd.DataFrame(wb.get_series('EG.ELC.RNWX.KH', mrv=1))\n",
    "elect_prod_oil_sourc = pd.DataFrame(wb.get_series('EG.ELC.PETR.ZS', mrv=1))\n",
    "elect_prod_nucl_sourc = pd.DataFrame(wb.get_series('EG.ELC.NUCL.ZS', mrv=1))\n",
    "elect_prod_coal_sourc = pd.DataFrame(wb.get_series('EG.ELC.COAL.ZS', mrv=1))\n",
    "elect_prod_oilgascoal_sourc = pd.DataFrame(wb.get_series('EG.ELC.FOSL.ZS', mrv=1))\n",
    "elect_prod_natgas_sourc = pd.DataFrame(wb.get_series('EG.ELC.NGAS.ZS', mrv=1))\n",
    "elect_prod_hydro_sourc = pd.DataFrame(wb.get_series('EG.ELC.HYRO.ZS', mrv=1))\n",
    "elect_power_transm_loss = pd.DataFrame(wb.get_series('EG.ELC.LOSS.ZS', mrv=1))\n",
    "elect_access = pd.DataFrame(wb.get_series('EG.ELC.ACCS.ZS', mrv=1))\n",
    "elect_access_urban = pd.DataFrame(wb.get_series('EG.ELC.ACCS.UR.ZS', mrv=1))\n",
    "elect_access_rural = pd.DataFrame(wb.get_series('EG.ELC.ACCS.RU.ZS', mrv=1))"
   ]
  },
  {
   "cell_type": "code",
   "execution_count": null,
   "metadata": {},
   "outputs": [],
   "source": [
    "#REMOVING COLUMNS FROM INDEXES\n",
    "elect_prod_renew_sourc_per.reset_index(inplace=True)\n",
    "elect_prod_renew_sourc_kwh.reset_index(inplace=True)\n",
    "elect_prod_oil_sourc.reset_index(inplace=True)\n",
    "elect_prod_nucl_sourc.reset_index(inplace=True)\n",
    "elect_prod_coal_sourc.reset_index(inplace=True)\n",
    "elect_prod_oilgascoal_sourc.reset_index(inplace=True)\n",
    "elect_prod_natgas_sourc.reset_index(inplace=True)\n",
    "elect_prod_hydro_sourc .reset_index(inplace=True)\n",
    "elect_power_transm_loss.reset_index(inplace=True)\n",
    "elect_access.reset_index(inplace=True)\n",
    "elect_access_urban.reset_index(inplace=True)\n",
    "elect_access_rural.reset_index(inplace=True)"
   ]
  },
  {
   "cell_type": "code",
   "execution_count": null,
   "metadata": {},
   "outputs": [],
   "source": [
    "#RENAMING VALUE COLUMNS\n",
    "elect_prod_renew_sourc_per=elect_prod_renew_sourc_per.rename(columns={\"EG.ELC.RNWX.ZS\": \"Percentage\"})\n",
    "elect_prod_renew_sourc_kwh=elect_prod_renew_sourc_kwh.rename(columns={\"EG.ELC.RNWX.KH\": \"KWH\"})\n",
    "elect_prod_oil_sourc=elect_prod_oil_sourc.rename(columns={\"EG.ELC.PETR.ZS\": \"Percentage\"})\n",
    "elect_prod_nucl_sourc=elect_prod_nucl_sourc.rename(columns={\"EG.ELC.NUCL.ZS\": \"Percentage\"})\n",
    "elect_prod_coal_sourc=elect_prod_coal_sourc.rename(columns={\"EG.ELC.COAL.ZS\": \"Percentage\"})\n",
    "elect_prod_oilgascoal_sourc=elect_prod_oilgascoal_sourc.rename(columns={\"EG.ELC.FOSL.ZS\": \"Percentage\"})\n",
    "elect_prod_natgas_sourc = elect_prod_natgas_sourc.rename(columns={\"EG.ELC.NGAS.ZS\": \"Percentage\"})\n",
    "elect_prod_hydro_sourc = elect_prod_hydro_sourc.rename(columns={\"EG.ELC.HYRO.ZS\": \"Percentage\"})\n",
    "elect_power_transm_loss=elect_power_transm_loss.rename(columns={\"EG.ELC.LOSS.ZS\": \"Percentage\"})\n",
    "elect_access=elect_access.rename(columns={\"EG.ELC.ACCS.ZS\": \"Percentage\"})\n",
    "elect_access_urban=elect_access_urban.rename(columns={\"EG.ELC.ACCS.UR.ZS\": \"Percentage\"})\n",
    "elect_access_rural=elect_access_rural.rename(columns={\"EG.ELC.ACCS.RU.ZS\": \"Percentage\"})"
   ]
  },
  {
   "cell_type": "code",
   "execution_count": null,
   "metadata": {},
   "outputs": [],
   "source": [
    "#DROPPING DUMMY COLUMNS\n",
    "elect_prod_renew_sourc_per=elect_prod_renew_sourc_per.drop(columns=['Series'])\n",
    "elect_prod_renew_sourc_kwh=elect_prod_renew_sourc_kwh.drop(columns=['Series'])\n",
    "elect_prod_oil_sourc=elect_prod_oil_sourc.drop(columns=['Series'])\n",
    "elect_prod_nucl_sourc=elect_prod_nucl_sourc.drop(columns=['Series'])\n",
    "elect_prod_coal_sourc=elect_prod_coal_sourc.drop(columns=['Series'])\n",
    "elect_prod_oilgascoal_sourc=elect_prod_oilgascoal_sourc.drop(columns=['Series'])\n",
    "elect_prod_natgas_sourc = elect_prod_natgas_sourc.drop(columns=['Series'])\n",
    "elect_prod_hydro_sourc = elect_prod_hydro_sourc.drop(columns=['Series'])\n",
    "elect_power_transm_loss=elect_power_transm_loss.drop(columns=['Series'])\n",
    "elect_access=elect_access.drop(columns=['Series'])\n",
    "elect_access_urban=elect_access_urban.drop(columns=['Series'])\n",
    "elect_access_rural=elect_access_rural.drop(columns=['Series'])"
   ]
  },
  {
   "cell_type": "code",
   "execution_count": null,
   "metadata": {},
   "outputs": [],
   "source": [
    "#TABLE TITLE\n",
    "#elect_prod_renew_sourc_per=elect_prod_renew_sourc_per.style.set_caption(\"Electricity production from renewable sources, excluding hydroelectric (% of total)\")\n",
    "#elect_prod_renew_sourc_kwh=elect_prod_renew_sourc_kwh.style.set_caption(\"Electricity production from renewable sources, excluding hydroelectric (kWh)\")\n",
    "#elect_prod_oil_sourc=elect_prod_oil_sourc.style.set_caption(\"Electricity production from oil sources (% of total)\")\n",
    "#elect_prod_nucl_sourc=elect_prod_nucl_sourc.style.set_caption(\"Electricity production from nuclear sources (% of total)\")\n",
    "#elect_prod_coal_sourc=elect_prod_coal_sourc.style.set_caption(\"Electricity production from coal sources (% of total)\")\n",
    "#elect_prod_oilgascoal_sourc=elect_prod_oilgascoal_sourc.style.set_caption(\"Electricity production from oil, gas and coal sources (% of total)\")\n",
    "#elect_power_transm_loss=elect_power_transm_loss.style.set_caption(\"Electric power transmission and distribution losses (% of output)\")\n",
    "#elect_access=elect_access.style.set_caption(\"Access to electricity (% of population)\")\n",
    "#elect_access_urban=elect_access_urban.style.set_caption(\"Access to electricity, urban (% of urban population)\")\n",
    "#elect_access_rural=elect_access_rural.style.set_caption(\"Access to electricity, rural (% of rural population)\")"
   ]
  },
  {
   "cell_type": "code",
   "execution_count": null,
   "metadata": {},
   "outputs": [],
   "source": [
    "#MERGES TO BE DONE  BY NUMBER\n",
    "#elect_prod_renew_sourc_per   #1\n",
    "#elect_prod_renew_sourc_kwh   \n",
    "#elect_prod_oil_sourc!        #1\n",
    "#elect_prod_nucl_sourc!       #1 \n",
    "#elect_prod_coal_sourc!       #1\n",
    "#elect_prod_oilgascoal_sourc\n",
    "#elect_power_transm_loss\n",
    "#elect_access   #             #2\n",
    "#elect_access_urban   #       #2\n",
    "#elect_access_rural   #       #2"
   ]
  },
  {
   "cell_type": "code",
   "execution_count": null,
   "metadata": {},
   "outputs": [],
   "source": [
    "#elect_prod_renew_sourc_per\n",
    "#elect_prod_renew_sourc_kwh\n",
    "#elect_prod_oil_sourc\n",
    "#elect_prod_nucl_sourc\n",
    "#elect_prod_coal_sourc\n",
    "#elect_prod_oilgascoal_sourc\n",
    "#elect_power_transm_loss\n",
    "#elect_access\n",
    "#elect_access_urban\n",
    "#elect_access_rural\n"
   ]
  },
  {
   "cell_type": "code",
   "execution_count": null,
   "metadata": {},
   "outputs": [],
   "source": []
  },
  {
   "cell_type": "code",
   "execution_count": null,
   "metadata": {},
   "outputs": [],
   "source": [
    "##Reformating from 'pandas.io.formats.style.Styler' to 'pandas.core.frame.DataFrame'\n",
    "#elect_prod_renew_sourc_per = pd.DataFrame(elect_prod_renew_sourc_per)\n",
    "#elect_prod_renew_sourc_kwh = pd.DataFrame(elect_prod_renew_sourc_kwh)\n",
    "#elect_prod_oil_sourc = pd.DataFrame(elect_prod_oil_sourc)\n",
    "#elect_prod_nucl_sourc = pd.DataFrame(elect_prod_nucl_sourc)\n",
    "#elect_prod_coal_sourc = pd.DataFrame(elect_prod_coal_sourc)\n",
    "#elect_prod_oilgascoal_sourc = pd.DataFrame(elect_prod_oilgascoal_sourc)\n",
    "#elect_power_transm_loss = pd.DataFrame(elect_power_transm_loss)\n",
    "#elect_access = pd.DataFrame(elect_access)\n",
    "#elect_access_urban = pd.DataFrame(elect_access_urban)\n",
    "#elect_access_rural = pd.DataFrame(elect_access_rural)"
   ]
  },
  {
   "cell_type": "code",
   "execution_count": null,
   "metadata": {},
   "outputs": [],
   "source": [
    "#elect_access      #          #2\n",
    "#elect_access_urban   #       #2\n",
    "#elect_access_rural   #       #2\n",
    "\n",
    "result=pd.merge(elect_access, elect_access_rural, on=\"Country\")\n",
    "\n",
    "table_elec_access=pd.merge(result,elect_access_urban, on=\"Country\")\n",
    "\n",
    "table_elec_access=table_elec_access.rename(columns={\"Percentage_x\": \"Electricity Access WW\", \"Percentage_y\":\"Electricity Access Rural\" , \"Percentage\":\"Electricity Access Urban\"})\n",
    "\n",
    "table_elec_access=table_elec_access.drop(columns=['Year','Year_y'])\n",
    "\n",
    "table_elec_access=table_elec_access.rename(columns={\"Year_x\": \"Year\"})"
   ]
  },
  {
   "cell_type": "code",
   "execution_count": null,
   "metadata": {},
   "outputs": [],
   "source": [
    "#elect_prod_renew_sourc_per   #1  \n",
    "#elect_prod_oil_sourc     #1\n",
    "#elect_prod_nucl_sourc       #1 \n",
    "#elect_prod_coal_sourc       #1\n",
    "\n"
   ]
  },
  {
   "cell_type": "code",
   "execution_count": null,
   "metadata": {},
   "outputs": [],
   "source": [
    "combination=pd.merge(elect_prod_renew_sourc_per, elect_prod_oil_sourc, on=\"Country\")\n",
    "#combination2=pd.merge(combination, elect_prod_nucl_sourc, on=\"Country\")\n",
    "#table_elec_source_breakdown=pd.merge(combination2, elect_prod_coal_sourc, on=\"Country\")\n",
    "#table_elec_source_breakdown\n",
    "combination\n",
    "#table_elec_source_breakdown=table_elec_source_breakdown.rename(columns={\"Percentage_x\": \"Renewable Sources\", \"Percentage_y\":\"Oil Source\" , \"Percentage\":\"Electricity Access Urban\"})\n",
    "\n",
    "combination=combination.drop(columns=['Year_y'])\n",
    "\n",
    "combination=combination.rename(columns={\"Year_x\": \"Year\", \"Percentage_y\":\"Oil Sources %\" , \"Percentage_x\":\"Renewable Sources %\"})\n",
    "\n",
    "combination2=pd.merge(combination, elect_prod_nucl_sourc, on=\"Country\")\n",
    "\n",
    "combination2=combination2.drop(columns=['Year_y'])\n",
    "\n",
    "combination2=combination2.rename(columns={\"Percentage\": \"Nuclear Sources %\"})\n",
    "\n",
    "combination3=pd.merge(combination2, elect_prod_coal_sourc, on=\"Country\")\n",
    "\n",
    "combination3=combination3.drop(columns=['Year'])\n",
    "\n",
    "combination4=combination3.rename(columns={\"Year_x\": \"Year\", \"Percentage\": \"Coal Sources %\"})\n",
    "\n",
    "combination5=pd.merge(combination4, elect_prod_natgas_sourc, on=\"Country\")\n",
    "\n",
    "combination5=combination5.drop(columns=['Year_y'])\n",
    "\n",
    "combination5=combination5.rename(columns={\"Percentage\": \"Natural Gas Sources %\", \"Year_x\": \"Year\"})\n",
    "\n",
    "combination6=pd.merge(combination5, elect_prod_hydro_sourc, on=\"Country\")\n",
    "\n",
    "combination6=combination6.drop(columns=['Year_y'])\n",
    "\n",
    "table_elec_source_breakdown=combination6.rename(columns={\"Percentage\": \"Hydroelectric Sources %\", \"Year_x\": \"Year\"})\n",
    "\n"
   ]
  },
  {
   "cell_type": "code",
   "execution_count": null,
   "metadata": {},
   "outputs": [],
   "source": [
    "table_elec_source_breakdown"
   ]
  },
  {
   "cell_type": "code",
   "execution_count": null,
   "metadata": {},
   "outputs": [],
   "source": [
    "table_elec_access"
   ]
  }
 ],
 "metadata": {
  "kernelspec": {
   "display_name": "Python 3",
   "language": "python",
   "name": "python3"
  },
  "language_info": {
   "codemirror_mode": {
    "name": "ipython",
    "version": 3
   },
   "file_extension": ".py",
   "mimetype": "text/x-python",
   "name": "python",
   "nbconvert_exporter": "python",
   "pygments_lexer": "ipython3",
   "version": "3.8.3"
  }
 },
 "nbformat": 4,
 "nbformat_minor": 4
}
